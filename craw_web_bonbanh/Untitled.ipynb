{
 "cells": [
  {
   "cell_type": "code",
   "execution_count": 1,
   "id": "c2a22ae4",
   "metadata": {},
   "outputs": [],
   "source": [
    "import requests\n",
    "from bs4 import BeautifulSoup\n",
    "import urllib.request\n",
    "from selenium import webdriver\n",
    "from selenium.webdriver.common.keys import Keys"
   ]
  },
  {
   "cell_type": "code",
   "execution_count": 2,
   "id": "3c777c85",
   "metadata": {},
   "outputs": [],
   "source": [
    "link_base = 'https://bonbanh.com/oto/page,'\n",
    "links = []\n",
    "for i in range(1,2079):\n",
    "    item = link_base+str(i)\n",
    "    links.append(item)"
   ]
  },
  {
   "cell_type": "markdown",
   "id": "d6280bbc",
   "metadata": {},
   "source": [
    "# mới crawl đến trang 872"
   ]
  },
  {
   "cell_type": "code",
   "execution_count": 44,
   "id": "f5de502d",
   "metadata": {},
   "outputs": [
    {
     "name": "stdout",
     "output_type": "stream",
     "text": [
      "https://bonbanh.com/xe-hyundai-tucson-1.6-at-turbo-2019-3910469\n",
      "https://bonbanh.com/uploads/users/198545/car/3910469/m_1626166334.406.jpg\n",
      "https://bonbanh.com/uploads/users/198545/car/3910469/m_1626166365.808.jpg\n",
      "https://bonbanh.com/uploads/users/198545/car/3910469/m_1626166366.122.jpg\n",
      "https://bonbanh.com/uploads/users/198545/car/3910469/m_1626166397.416.jpg\n",
      "page count ------------------------------- 1\n"
     ]
    }
   ],
   "source": [
    "headers = {'User-Agent': 'Mozilla/5.0 (Macintosh; Intel Mac OS X 10_10_1) AppleWebKit/537.36 (KHTML, like Gecko) Chrome/39.0.2171.95 Safari/537.36'}\n",
    "page_count = 0\n",
    "image_count = 0\n",
    "# try:\n",
    "if True:\n",
    "    for i in range(len(links)):\n",
    "        link = links[i]\n",
    "        r = requests.get(link, headers=headers)\n",
    "        soup = BeautifulSoup(r.text, 'html.parser')\n",
    "        id_content = soup.find(\"div\", class_=\"g-box-content\")\n",
    "        ul = id_content.find_all('ul')\n",
    "        \n",
    "        if True:\n",
    "            for li in ul[1].find_all('li'):\n",
    "#                 if True:\n",
    "                try:                  \n",
    "                    img_color = li.find(\"div\", class_=\"cb6_02\")\n",
    "                    for a in img_color:\n",
    "                        color = str(a).split(',')[1]\n",
    "                        break\n",
    "\n",
    "                    name = li.find('h3').string\n",
    "                    im = li.find('img')\n",
    "                    image_url = im['src']                \n",
    "                    \n",
    "                    for a in li.find_all('a', href=True):\n",
    "                        count_img_same = 0\n",
    "                        link_img = 'https://bonbanh.com/'+a['href']\n",
    "                        print(link_img)\n",
    "                        r_img = requests.get(link_img, headers=headers)\n",
    "                        soup_img = BeautifulSoup(r_img.text, 'html.parser')\n",
    "#                         print(soup_img.prettify())\n",
    "                        #thoat\n",
    "                        so_cho = soup_img.find(\"div\",{\"id\":\"sgg\"})\n",
    "                        b_row = so_cho.findAll(\"div\", {\"class\": \"row_last\"})\n",
    "                        c_row = b_row[0].find('span').text.strip()\n",
    "#                         print(c_row)\n",
    "                        \n",
    "                \n",
    "                        medimum_img = soup_img.find(\"div\",{ \"id\" : \"medium_img\" })\n",
    "                        for img_img in medimum_img.find_all('img'):\n",
    "                            print(img_img['src'])\n",
    "                            #id_idsame_color_name\n",
    "                            try:\n",
    "#                             if True:\n",
    "                                urllib.request.urlretrieve(img_img['src'], 'image/'+str(image_count)+'_'+str(count_img_same)+'_'+c_row+'_'+color+'_'+name+'.jpg')\n",
    "                            except Exception as e:\n",
    "                                print(\"An exception occurred: \", e)\n",
    "                            count_img_same += 1\n",
    "                            if count_img_same == 4:\n",
    "                                break\n",
    "                    #thoat\n",
    "                    break\n",
    "                    urllib.request.urlretrieve(image_url, 'image/'+str(image_count)+'_'+str(count_img_same)+'_'+c_row+'_'+color+'_'+name+'.jpg')\n",
    "                    image_count+=1\n",
    "                    print('so luong anh la',image_count)\n",
    "#                     break\n",
    "                except Exception as e:\n",
    "                    print(\"An exception occurred: \", e)\n",
    "        page_count+=1\n",
    "        print('page count -------------------------------',page_count)\n",
    "#         thoat\n",
    "        break\n",
    "#         if page_count == 1:\n",
    "#             break\n",
    "# except Exception as e:\n",
    "#     print(\"An exception occurred: \", e)"
   ]
  },
  {
   "cell_type": "markdown",
   "id": "e48761cf",
   "metadata": {},
   "source": [
    "# lấy số chỗ"
   ]
  },
  {
   "cell_type": "code",
   "execution_count": 34,
   "id": "920b3353",
   "metadata": {},
   "outputs": [
    {
     "name": "stdout",
     "output_type": "stream",
     "text": [
      "https://bonbanh.com/xe-suzuki-swift-1.4-at-2015-3877970\n",
      "5 chỗ\n",
      "https://bonbanh.com/xe-lexus-lx-570-2021-3688067\n",
      "7 chỗ\n",
      "https://bonbanh.com/xe-mercedes_benz-e_class-e180-2019-3868552\n",
      "5 chỗ\n",
      "https://bonbanh.com/xe-kia-soluto-1.4-mt-deluxe-2019-3860113\n",
      "5 chỗ\n",
      "https://bonbanh.com/xe-peugeot-5008-allure-1.6-at-2020-3839333\n",
      "7 chỗ\n",
      "https://bonbanh.com/xe-hyundai-elantra-1.6-at-2016-3916817\n",
      "5 chỗ\n",
      "https://bonbanh.com/xe-kia-cerato-1.6-at-luxury-2019-3830761\n",
      "5 chỗ\n",
      "https://bonbanh.com/xe-bmw-x6-xdrive35i-2012-3862539\n",
      "5 chỗ\n",
      "https://bonbanh.com/xe-landrover-range_rover_sport-hse-2015-3802583\n",
      "5 chỗ\n",
      "https://bonbanh.com/xe-hyundai-kona-2.0-ath-2019-3924920\n",
      "5 chỗ\n",
      "https://bonbanh.com/xe-vinfast-lux_a_2.0-2.0-at-2021-3275373\n",
      "5 chỗ\n",
      "https://bonbanh.com/xe-mazda-cx5-2.5-signature-premium-awd-i-activ-2021-2906586\n",
      "5 chỗ\n",
      "https://bonbanh.com/xe-ford-ranger-wildtrak-2.0l-4x4-at-2021-3900194\n",
      "5 chỗ\n",
      "https://bonbanh.com/xe-toyota-yaris-1.5g-2018-3857411\n",
      "5 chỗ\n",
      "https://bonbanh.com/xe-kia-sedona-2.2-dat-luxury-2019-3916740\n",
      "7 chỗ\n",
      "https://bonbanh.com/xe-kia-morning-luxury-2019-3936678\n",
      "5 chỗ\n",
      "https://bonbanh.com/xe-ford-ranger-xls-2.2l-4x2-mt-2016-3856472\n",
      "5 chỗ\n",
      "https://bonbanh.com/xe-kia-cerato-1.6-at-2012-3789905\n",
      "5 chỗ\n",
      "https://bonbanh.com/xe-hyundai-accent-1.4-mt-2020-3870465\n",
      "5 chỗ\n",
      "https://bonbanh.com/xe-hyundai-accent-1.4-at-2012-3812850\n",
      "5 chỗ\n"
     ]
    }
   ],
   "source": [
    "headers = {'User-Agent': 'Mozilla/5.0 (Macintosh; Intel Mac OS X 10_10_1) AppleWebKit/537.36 (KHTML, like Gecko) Chrome/39.0.2171.95 Safari/537.36'}\n",
    "page_count = 0\n",
    "image_count = 0\n",
    "# try:\n",
    "if True:\n",
    "    for i in range(len(links)):\n",
    "        link = links[i]\n",
    "        r = requests.get(link, headers=headers)\n",
    "        soup = BeautifulSoup(r.text, 'html.parser')\n",
    "        id_content = soup.find(\"div\", class_=\"g-box-content\")\n",
    "        ul = id_content.find_all('ul')\n",
    "        \n",
    "        if True:\n",
    "            for li in ul[1].find_all('li'):\n",
    "#                 if True:                 \n",
    "                    img_color = li.find(\"div\", class_=\"cb6_02\")\n",
    "                    for a in img_color:\n",
    "                        color = str(a).split(',')[1]\n",
    "                        break\n",
    "\n",
    "                    name = li.find('h3').string\n",
    "                    im = li.find('img')\n",
    "                    image_url = im['src']                \n",
    "                    \n",
    "                    for a in li.find_all('a', href=True):\n",
    "                        count_img_same = 0\n",
    "                        link_img = 'https://bonbanh.com/'+a['href']\n",
    "                        print(link_img)\n",
    "                        r_img = requests.get(link_img, headers=headers)\n",
    "                        soup_img = BeautifulSoup(r_img.text, 'html.parser')\n",
    "#                         print(soup_img.prettify())\n",
    "                        #thoat\n",
    "                        so_cho = soup_img.find(\"div\",{\"id\":\"sgg\"})\n",
    "                        b = so_cho.findAll(\"div\", {\"class\": \"row_last\"})\n",
    "                        c = b[0].find('span')\n",
    "                        print(c.text.strip())\n",
    "#                         for c in b.find_all(\"div\", {\"class\": \"row_last\"}):\n",
    "#                             print(c)\n",
    "                        break\n",
    "            break\n",
    "        break"
   ]
  },
  {
   "cell_type": "code",
   "execution_count": null,
   "id": "5cbc0682",
   "metadata": {},
   "outputs": [],
   "source": []
  },
  {
   "cell_type": "code",
   "execution_count": null,
   "id": "bae5433c",
   "metadata": {},
   "outputs": [],
   "source": [
    "id_content = soup.find(\"div\", class_=\"g-box-content\")\n",
    "ul = id_content.find_all('ul')\n",
    "\n",
    "for li in ul[1].find_all('li'):\n",
    "    name = li.find('h3').string\n",
    "    im = li.find('img')\n",
    "    image_url = im['src']\n",
    "    print(src)\n",
    "    print(name)\n",
    "\n",
    "    save_name = 'my_image.jpg' #local name to be saved\n",
    "    urllib.request.urlretrieve(image_url, name)\n",
    "#     break"
   ]
  },
  {
   "cell_type": "code",
   "execution_count": null,
   "id": "5b6e2b8e",
   "metadata": {},
   "outputs": [],
   "source": []
  },
  {
   "cell_type": "code",
   "execution_count": null,
   "id": "f5426c54",
   "metadata": {
    "scrolled": false
   },
   "outputs": [],
   "source": [
    "c_con = id_content.find(\"div\", class_=\"g-box-content\")\n",
    "ul = c_con.find_all('ul', {'class': ''})\n",
    "# print(c_con[0].prettify())"
   ]
  },
  {
   "cell_type": "code",
   "execution_count": null,
   "id": "70f3d8fe",
   "metadata": {},
   "outputs": [],
   "source": [
    "soup.find_all('ul')"
   ]
  },
  {
   "cell_type": "code",
   "execution_count": null,
   "id": "3c56f7cd",
   "metadata": {},
   "outputs": [],
   "source": [
    "soup.title.name"
   ]
  },
  {
   "cell_type": "code",
   "execution_count": null,
   "id": "6e13ae24",
   "metadata": {},
   "outputs": [],
   "source": [
    "soup.get_text()"
   ]
  },
  {
   "cell_type": "code",
   "execution_count": null,
   "id": "b8b7cb8b",
   "metadata": {},
   "outputs": [],
   "source": [
    "import glob\n",
    "import os\n",
    "path_name = '/home/minh/Documents/minh/mqsolutions/car_object_detection/craw_web_bonbanh/image/'\n",
    "path = []\n",
    "for img in glob.glob(path_name + '*.jpg'):\n",
    "    img_raed = cv2.imread(img)\n",
    "    name_file = img.split(os.path.sep)[-1]\n",
    "    name = name_file.split('.')[0]\n",
    "    path.append(img)"
   ]
  },
  {
   "cell_type": "code",
   "execution_count": null,
   "id": "bf476bc4",
   "metadata": {},
   "outputs": [],
   "source": [
    "len(path)"
   ]
  },
  {
   "cell_type": "code",
   "execution_count": null,
   "id": "ca887fed",
   "metadata": {},
   "outputs": [],
   "source": [
    "name_file = img.split(os.path.sep)[-1]\n",
    "name = name_file.split('.')[0]\n",
    "name"
   ]
  },
  {
   "cell_type": "code",
   "execution_count": null,
   "id": "348311ea",
   "metadata": {},
   "outputs": [],
   "source": [
    "path[5].split(os.path.sep)[-1]"
   ]
  },
  {
   "cell_type": "code",
   "execution_count": null,
   "id": "53912563",
   "metadata": {},
   "outputs": [],
   "source": []
  }
 ],
 "metadata": {
  "kernelspec": {
   "display_name": "Python 3",
   "language": "python",
   "name": "python3"
  },
  "language_info": {
   "codemirror_mode": {
    "name": "ipython",
    "version": 3
   },
   "file_extension": ".py",
   "mimetype": "text/x-python",
   "name": "python",
   "nbconvert_exporter": "python",
   "pygments_lexer": "ipython3",
   "version": "3.7.11"
  }
 },
 "nbformat": 4,
 "nbformat_minor": 5
}
