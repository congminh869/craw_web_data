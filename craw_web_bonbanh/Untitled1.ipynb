{
 "cells": [
  {
   "cell_type": "code",
   "execution_count": 1,
   "id": "1019b22e",
   "metadata": {},
   "outputs": [],
   "source": [
    "import glob\n",
    "import os\n",
    "import shutil\n",
    "from collections import Counter\n",
    "from shutil import copy2"
   ]
  },
  {
   "cell_type": "code",
   "execution_count": 2,
   "id": "c344f9a4",
   "metadata": {},
   "outputs": [],
   "source": [
    "path = '/home/minh/Documents/minh/mqsolutions/car_object_detection/craw_web_bonbanh/image248_full/detect_car_full/'\n",
    "path_imgs = []\n",
    "\n",
    "for path_img in glob.glob(path+'*.jpg'):\n",
    "    path_imgs.append(path_img)"
   ]
  },
  {
   "cell_type": "code",
   "execution_count": 3,
   "id": "671737a9",
   "metadata": {},
   "outputs": [
    {
     "data": {
      "text/plain": [
       "116349"
      ]
     },
     "execution_count": 3,
     "metadata": {},
     "output_type": "execute_result"
    }
   ],
   "source": [
    "len(path_imgs)"
   ]
  },
  {
   "cell_type": "code",
   "execution_count": 4,
   "id": "2596ccc2",
   "metadata": {},
   "outputs": [
    {
     "name": "stdout",
     "output_type": "stream",
     "text": [
      "1000\n",
      "2000\n",
      "3000\n",
      "4000\n",
      "5000\n",
      "6000\n",
      "7000\n",
      "8000\n",
      "9000\n",
      "10000\n",
      "11000\n",
      "12000\n",
      "13000\n",
      "14000\n",
      "15000\n",
      "16000\n",
      "17000\n",
      "18000\n",
      "19000\n",
      "20000\n",
      "21000\n",
      "22000\n",
      "23000\n",
      "24000\n",
      "25000\n",
      "26000\n",
      "27000\n",
      "28000\n",
      "29000\n",
      "30000\n",
      "31000\n",
      "32000\n",
      "33000\n",
      "34000\n",
      "35000\n",
      "36000\n",
      "37000\n",
      "38000\n",
      "39000\n",
      "40000\n",
      "41000\n",
      "42000\n",
      "43000\n",
      "44000\n",
      "45000\n",
      "46000\n",
      "47000\n",
      "48000\n",
      "49000\n",
      "50000\n",
      "51000\n",
      "52000\n",
      "53000\n",
      "54000\n",
      "55000\n",
      "56000\n",
      "57000\n",
      "58000\n",
      "59000\n",
      "60000\n",
      "61000\n",
      "62000\n",
      "63000\n",
      "64000\n",
      "65000\n",
      "66000\n",
      "67000\n",
      "68000\n",
      "69000\n",
      "70000\n",
      "71000\n",
      "72000\n",
      "73000\n",
      "74000\n",
      "75000\n",
      "76000\n",
      "77000\n",
      "78000\n",
      "79000\n",
      "80000\n",
      "81000\n",
      "82000\n",
      "83000\n",
      "84000\n",
      "85000\n",
      "86000\n",
      "87000\n",
      "88000\n",
      "89000\n",
      "90000\n",
      "91000\n",
      "92000\n",
      "93000\n",
      "94000\n",
      "95000\n",
      "96000\n",
      "97000\n",
      "98000\n",
      "99000\n",
      "100000\n",
      "101000\n",
      "102000\n",
      "103000\n",
      "104000\n",
      "105000\n",
      "106000\n",
      "107000\n",
      "108000\n",
      "109000\n",
      "110000\n",
      "111000\n",
      "112000\n",
      "113000\n",
      "114000\n",
      "115000\n",
      "116000\n"
     ]
    }
   ],
   "source": [
    "dst_folder = '/home/minh/Documents/minh/mqsolutions/car_object_detection/craw_web_bonbanh/image248_full/detect_car_full_split_color/'\n",
    "colors = []\n",
    "count = 0\n",
    "for name_img in path_imgs:\n",
    "#     print(name_img)\n",
    "    name_full = name_img.split('/')[-1]\n",
    "    color_img = name_full.split('_')[3]\n",
    "    name_replace = color_img.replace(' ','_')\n",
    "    copy2(name_img, dst_folder+name_replace+'/')\n",
    "    colors.append(color_img)\n",
    "#     break\n",
    "    count+=1\n",
    "    if count%1000==0:\n",
    "        print(count)\n",
    "# unique_list = list(set(colors))\n",
    "# unique_list"
   ]
  },
  {
   "cell_type": "code",
   "execution_count": 5,
   "id": "1a21ce54",
   "metadata": {},
   "outputs": [],
   "source": [
    "key = list(Counter(colors).keys())\n",
    "value = list(Counter(colors).values())"
   ]
  },
  {
   "cell_type": "code",
   "execution_count": 6,
   "id": "767c27a4",
   "metadata": {},
   "outputs": [
    {
     "name": "stdout",
     "output_type": "stream",
     "text": [
      "[' màu đỏ', ' màu đen', ' màu nâu', ' màu trắng', ' màu xanh', ' màu bạc', ' màu ghi', ' màu vàng', ' màu cát', ' màu xám', ' màu đồng', ' màu cam', ' màu kem', ' màu hồng', ' màu tím']\n",
      "[13348, 21927, 3219, 36946, 9914, 14513, 2335, 3928, 3081, 4821, 695, 1156, 252, 163, 51]\n"
     ]
    }
   ],
   "source": [
    "print(key)\n",
    "print(value)"
   ]
  },
  {
   "cell_type": "code",
   "execution_count": 7,
   "id": "0892f039",
   "metadata": {},
   "outputs": [
    {
     "name": "stdout",
     "output_type": "stream",
     "text": [
      " màu đỏ: 13348\n",
      " màu đen: 21927\n",
      " màu nâu: 3219\n",
      " màu trắng: 36946\n",
      " màu xanh: 9914\n",
      " màu bạc: 14513\n",
      " màu ghi: 2335\n",
      " màu vàng: 3928\n",
      " màu cát: 3081\n",
      " màu xám: 4821\n",
      " màu đồng: 695\n",
      " màu cam: 1156\n",
      " màu kem: 252\n",
      " màu hồng: 163\n",
      " màu tím: 51\n"
     ]
    }
   ],
   "source": [
    "# create_folder = '/home/minh/Documents/minh/mqsolutions/car_object_detection/craw_web_bonbanh/image248_detect/'\n",
    "for i in range(len(key)):\n",
    "#     rename_keyi = key[i].replace(' ','_')\n",
    "#     os.mkdir(create_folder+rename_keyi) \n",
    "    print(key[i]+': '+str(value[i]))"
   ]
  },
  {
   "cell_type": "code",
   "execution_count": 119,
   "id": "51dd49a9",
   "metadata": {},
   "outputs": [],
   "source": [
    "create_folder = '/home/minh/Documents/minh/mqsolutions/car_object_detection/craw_web_bonbanh/image248_full/xoa/'\n",
    "for i in range(len(key)):\n",
    "    rename_keyi = key[i].replace(' ','_')\n",
    "    os.mkdir(create_folder+rename_keyi)"
   ]
  },
  {
   "cell_type": "code",
   "execution_count": 38,
   "id": "cf25b12b",
   "metadata": {},
   "outputs": [],
   "source": [
    "colors = []\n",
    "for name_img in path_imgs:\n",
    "    name_full = name_img.split('/')[-1]\n",
    "    color_img = name_full.split('_')[3]\n",
    "    temp = color_img.split(' ')\n",
    "\n",
    "    if len(temp) > 3:\n",
    "#         if os.path.exists(name_img):\n",
    "        os.remove(name_img)\n",
    "        print('remove'+color_img)\n",
    "    else:\n",
    "        colors.append(color_img)"
   ]
  },
  {
   "cell_type": "code",
   "execution_count": 39,
   "id": "e771f73b",
   "metadata": {},
   "outputs": [
    {
     "data": {
      "text/plain": [
       "[' màu xám',\n",
       " ' màu cát',\n",
       " ' màu đỏ',\n",
       " ' màu đen',\n",
       " ' màu hồng',\n",
       " ' màu bạc',\n",
       " ' màu kem',\n",
       " ' màu tím',\n",
       " ' màu cam',\n",
       " ' màu nâu',\n",
       " ' màu đồng',\n",
       " ' màu vàng',\n",
       " ' màu trắng',\n",
       " ' màu ghi',\n",
       " ' màu xanh']"
      ]
     },
     "execution_count": 39,
     "metadata": {},
     "output_type": "execute_result"
    }
   ],
   "source": [
    "unique_list = list(set(colors))\n",
    "unique_list"
   ]
  },
  {
   "cell_type": "code",
   "execution_count": 16,
   "id": "dfbc3507",
   "metadata": {},
   "outputs": [],
   "source": [
    "a = []\n",
    "b = []\n",
    "for i in unique_list:\n",
    "    temp = i.split(' ')\n",
    "#     print(len(temp))\n",
    "    if len(temp) > 3:\n",
    "        a.append(i)\n",
    "    else:\n",
    "        b.append(i)\n",
    "#     break"
   ]
  },
  {
   "cell_type": "markdown",
   "id": "44013952",
   "metadata": {},
   "source": [
    "copy img"
   ]
  },
  {
   "cell_type": "code",
   "execution_count": 121,
   "id": "72475004",
   "metadata": {},
   "outputs": [],
   "source": [
    "import glob\n",
    "import time"
   ]
  },
  {
   "cell_type": "code",
   "execution_count": 124,
   "id": "854cf167",
   "metadata": {},
   "outputs": [
    {
     "name": "stdout",
     "output_type": "stream",
     "text": [
      "---------------------------\n"
     ]
    }
   ],
   "source": [
    "path_name = []\n",
    "print(\"---------------------------\")\n",
    "path1 = '/home/minh/Documents/minh/mqsolutions/car_object_detection/craw_web_bonbanh/phanloai_train_yolo/car/image/val/'\n",
    "# dst0 = '/home/minh/Documents/minh/mqsolutions/car_object_detection/craw_web_bonbanh/phanloai_train_yolo/car/image/val/'\n",
    "for name in glob.glob(path1+'*.jpg'):\n",
    "    path_name.append(name)   \n",
    "\n",
    "count = 0\n",
    "for path in path_name:\n",
    "    name = path.split('/')[-1]\n",
    "    os.rename(path1+name,path1+str(count)+'.jpg')\n",
    "    count +=1"
   ]
  },
  {
   "cell_type": "code",
   "execution_count": null,
   "id": "921952d0",
   "metadata": {},
   "outputs": [],
   "source": []
  },
  {
   "cell_type": "code",
   "execution_count": null,
   "id": "714f6cb1",
   "metadata": {},
   "outputs": [],
   "source": []
  }
 ],
 "metadata": {
  "kernelspec": {
   "display_name": "Python 3",
   "language": "python",
   "name": "python3"
  },
  "language_info": {
   "codemirror_mode": {
    "name": "ipython",
    "version": 3
   },
   "file_extension": ".py",
   "mimetype": "text/x-python",
   "name": "python",
   "nbconvert_exporter": "python",
   "pygments_lexer": "ipython3",
   "version": "3.7.10"
  }
 },
 "nbformat": 4,
 "nbformat_minor": 5
}
