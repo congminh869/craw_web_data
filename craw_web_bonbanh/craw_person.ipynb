{
 "cells": [
  {
   "cell_type": "code",
   "execution_count": null,
   "id": "94f3bedd",
   "metadata": {},
   "outputs": [],
   "source": [
    "import requests\n",
    "from bs4 import BeautifulSoup\n",
    "import urllib.request\n",
    "from selenium import webdriver\n",
    "from selenium.webdriver.common.keys import Keys"
   ]
  },
  {
   "cell_type": "code",
   "execution_count": 2,
   "id": "57fbcc83",
   "metadata": {},
   "outputs": [
    {
     "name": "stdout",
     "output_type": "stream",
     "text": [
      "https://www.istockphoto.com/vi/search/search-by-image?searchbyimage=true&assettype=image&assetid=526569830&page=1\n",
      "https://www.istockphoto.com/vi/search/search-by-image?searchbyimage=true&assettype=image&assetid=526569830&page=2\n",
      "https://www.istockphoto.com/vi/search/search-by-image?searchbyimage=true&assettype=image&assetid=526569830&page=3\n",
      "https://www.istockphoto.com/vi/search/search-by-image?searchbyimage=true&assettype=image&assetid=526569830&page=4\n",
      "https://www.istockphoto.com/vi/search/search-by-image?searchbyimage=true&assettype=image&assetid=526569830&page=5\n"
     ]
    }
   ],
   "source": [
    "link_base = 'https://www.istockphoto.com/vi/search/search-by-image?searchbyimage=true&assettype=image&assetid=526569830&page='\n",
    "links = []\n",
    "for i in range(1,6):\n",
    "    item = link_base+str(i)\n",
    "    print(item)\n",
    "    links.append(item)"
   ]
  },
  {
   "cell_type": "code",
   "execution_count": null,
   "id": "e1dc0094",
   "metadata": {},
   "outputs": [],
   "source": [
    "headers = {'User-Agent': 'Mozilla/5.0 (Macintosh; Intel Mac OS X 10_10_1) AppleWebKit/537.36 (KHTML, like Gecko) Chrome/39.0.2171.95 Safari/537.36'}\n",
    "page_count = 0\n",
    "image_count = 0\n",
    "# try:\n",
    "if True:\n",
    "    for i in range(len(links)):\n",
    "        link = links[i]\n",
    "        r = requests.get(link, headers=headers)\n",
    "        soup = BeautifulSoup(r.text, 'html.parser')\n",
    "        \n",
    "        id_content = soup.find(\"div\", class_=\"g-box-content\")\n",
    "        ul = id_content.find_all('ul')\n",
    "        \n",
    "        if True:\n",
    "            for li in ul[1].find_all('li'):\n",
    "#                 if True:\n",
    "                try:                  \n",
    "                    img_color = li.find(\"div\", class_=\"cb6_02\")\n",
    "                    for a in img_color:\n",
    "                        color = str(a).split(',')[1]\n",
    "                        break\n",
    "\n",
    "                    name = li.find('h3').string\n",
    "                    im = li.find('img')\n",
    "                    image_url = im['src']                \n",
    "                    \n",
    "                    for a in li.find_all('a', href=True):\n",
    "                        count_img_same = 0\n",
    "                        link_img = 'https://bonbanh.com/'+a['href']\n",
    "                        print(link_img)\n",
    "                        r_img = requests.get(link_img, headers=headers)\n",
    "                        soup_img = BeautifulSoup(r_img.text, 'html.parser')\n",
    "#                         print(soup_img.prettify())\n",
    "                        #thoat\n",
    "                        so_cho = soup_img.find(\"div\",{\"id\":\"sgg\"})\n",
    "                        b_row = so_cho.findAll(\"div\", {\"class\": \"row_last\"})\n",
    "                        c_row = b_row[0].find('span').text.strip()\n",
    "#                         print(c_row)\n",
    "                        \n",
    "                \n",
    "                        medimum_img = soup_img.find(\"div\",{ \"id\" : \"medium_img\" })\n",
    "                        for img_img in medimum_img.find_all('img'):\n",
    "                            print(img_img['src'])\n",
    "                            #id_idsame_color_name\n",
    "                            try:\n",
    "#                             if True:\n",
    "                                urllib.request.urlretrieve(img_img['src'], 'image/'+str(image_count)+'_'+str(count_img_same)+'_'+c_row+'_'+color+'_'+name+'.jpg')\n",
    "                            except Exception as e:\n",
    "                                print(\"An exception occurred: \", e)\n",
    "                            count_img_same += 1\n",
    "                            if count_img_same == 4:\n",
    "                                break\n",
    "                    #thoat\n",
    "                    break\n",
    "                    urllib.request.urlretrieve(image_url, 'image/'+str(image_count)+'_'+str(count_img_same)+'_'+c_row+'_'+color+'_'+name+'.jpg')\n",
    "                    image_count+=1\n",
    "                    print('so luong anh la',image_count)\n",
    "#                     break\n",
    "                except Exception as e:\n",
    "                    print(\"An exception occurred: \", e)\n",
    "        page_count+=1\n",
    "        print('page count -------------------------------',page_count)\n",
    "#         thoat\n",
    "        break\n",
    "#         if page_count == 1:\n",
    "#             break\n",
    "# except Exception as e:\n",
    "#     print(\"An exception occurred: \", e)"
   ]
  },
  {
   "cell_type": "code",
   "execution_count": null,
   "id": "e488d368",
   "metadata": {},
   "outputs": [],
   "source": []
  },
  {
   "cell_type": "code",
   "execution_count": null,
   "id": "f36e7deb",
   "metadata": {},
   "outputs": [],
   "source": []
  },
  {
   "cell_type": "code",
   "execution_count": null,
   "id": "989f5b08",
   "metadata": {},
   "outputs": [],
   "source": []
  },
  {
   "cell_type": "code",
   "execution_count": null,
   "id": "3038de68",
   "metadata": {},
   "outputs": [],
   "source": []
  },
  {
   "cell_type": "code",
   "execution_count": null,
   "id": "82f9891f",
   "metadata": {},
   "outputs": [],
   "source": []
  }
 ],
 "metadata": {
  "kernelspec": {
   "display_name": "Python 3",
   "language": "python",
   "name": "python3"
  },
  "language_info": {
   "codemirror_mode": {
    "name": "ipython",
    "version": 3
   },
   "file_extension": ".py",
   "mimetype": "text/x-python",
   "name": "python",
   "nbconvert_exporter": "python",
   "pygments_lexer": "ipython3",
   "version": "3.7.11"
  }
 },
 "nbformat": 4,
 "nbformat_minor": 5
}
